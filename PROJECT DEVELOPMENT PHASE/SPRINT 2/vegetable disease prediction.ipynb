https://raw.githubusercontent.com/IBM-EPBL/IBM-Project-45792-1660732349/main/Project%20Development%20Phase/sprint%202/vegdata/vegetable%20disease%20prediction.ipynb
